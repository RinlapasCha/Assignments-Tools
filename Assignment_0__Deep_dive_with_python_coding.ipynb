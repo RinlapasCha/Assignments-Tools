{
  "nbformat": 4,
  "nbformat_minor": 0,
  "metadata": {
    "colab": {
      "provenance": [],
      "include_colab_link": true
    },
    "kernelspec": {
      "name": "python3",
      "display_name": "Python 3"
    },
    "language_info": {
      "name": "python"
    }
  },
  "cells": [
    {
      "cell_type": "markdown",
      "metadata": {
        "id": "view-in-github",
        "colab_type": "text"
      },
      "source": [
        "<a href=\"https://colab.research.google.com/github/RinlapasCha/Assignments-Tools/blob/main/Assignment_0__Deep_dive_with_python_coding.ipynb\" target=\"_parent\"><img src=\"https://colab.research.google.com/assets/colab-badge.svg\" alt=\"Open In Colab\"/></a>"
      ]
    },
    {
      "cell_type": "markdown",
      "source": [
        "1.\tConsider a sequence of n Bernoulli trials with success probabilty p per trial. A string of consecutive successes is known as a success run. Write a function that returns the counts for runs of length k for each k observed in a dictionary."
      ],
      "metadata": {
        "id": "OThJVITCbwmv"
      }
    },
    {
      "cell_type": "code",
      "source": [
        "from collections import Counter"
      ],
      "metadata": {
        "id": "6VqZOoVmZvi-"
      },
      "execution_count": 1,
      "outputs": []
    },
    {
      "cell_type": "code",
      "execution_count": 2,
      "metadata": {
        "colab": {
          "base_uri": "https://localhost:8080/"
        },
        "id": "7KH86wd3X3tz",
        "outputId": "8508a26b-c1ab-490f-be11-167e4f9aa313"
      },
      "outputs": [
        {
          "output_type": "stream",
          "name": "stdout",
          "text": [
            "Counter({1: 2, 2: 1})\n"
          ]
        }
      ],
      "source": [
        "def count_runs(bernoulli_trials):\n",
        "    run_counts = Counter()\n",
        "    run_length = 0\n",
        "\n",
        "    for trial in bernoulli_trials: #Iterating through Bernoulli Trials:\n",
        "        if trial == 1:\n",
        "            run_length += 1\n",
        "        else:\n",
        "            if run_length > 0:\n",
        "                run_counts[run_length] += 1\n",
        "            run_length = 0\n",
        "\n",
        "    if run_length > 0: #หลังจากวนรอบจะมีการตรวจสอบเพิ่มเติม  the case where the last run extends to the end of the list.\n",
        "        run_counts[run_length] += 1\n",
        "\n",
        "    return run_counts\n",
        "\n",
        "print(count_runs([0, 1, 0, 1, 1, 0, 0, 0, 0, 0, 1,]))"
      ]
    },
    {
      "cell_type": "code",
      "source": [
        "import numpy as np\n",
        "from collections import Counter\n",
        "\n",
        "def count_runs(sequence):\n",
        "    counts = {}\n",
        "    current_run_length = 1\n",
        "\n",
        "    for i in range(1, len(sequence)):\n",
        "        if sequence[i] == sequence[i-1]:\n",
        "            current_run_length += 1\n",
        "        else:\n",
        "            if current_run_length in counts:\n",
        "                counts[current_run_length] += 1\n",
        "            else:\n",
        "                counts[current_run_length] = 1\n",
        "            current_run_length = 1\n",
        "\n",
        "    # Add the last run\n",
        "    if current_run_length in counts:\n",
        "        counts[current_run_length] += 1\n",
        "    else:\n",
        "        counts[current_run_length] = 1\n",
        "\n",
        "    return counts\n",
        "\n",
        "def expected_count_runs(p, n, num_simulations):\n",
        "    counts = Counter()\n",
        "\n",
        "    for _ in range(num_simulations):\n",
        "        sequence = np.random.randint(0, 2, n)\n",
        "        current_counts = count_runs(sequence)\n",
        "\n",
        "        for key in current_counts.keys():\n",
        "            counts[key] += current_counts[key]\n",
        "\n",
        "    return counts\n",
        "\n",
        "sequence = np.random.randint(0, 2, 1000000)\n",
        "expected_counts = expected_count_runs(0.5, len(sequence), 1000)\n",
        "print(expected_counts)"
      ],
      "metadata": {
        "colab": {
          "base_uri": "https://localhost:8080/"
        },
        "id": "JQmmCz94bO3h",
        "outputId": "6307171c-d2d9-4b36-c96b-6a11447af4c4"
      },
      "execution_count": 3,
      "outputs": [
        {
          "output_type": "stream",
          "name": "stdout",
          "text": [
            "Counter({1: 250007424, 2: 124982542, 3: 62505582, 4: 31249398, 5: 15630486, 6: 7807154, 7: 3906758, 8: 1954425, 9: 976006, 10: 489154, 11: 243988, 12: 121732, 13: 61339, 14: 30524, 15: 15244, 16: 7737, 17: 3794, 18: 1951, 19: 933, 20: 521, 21: 236, 22: 109, 23: 48, 24: 37, 25: 11, 27: 6, 26: 3, 29: 1})\n"
          ]
        }
      ]
    },
    {
      "cell_type": "markdown",
      "source": [
        "2. Continuing from Part 1, what is the probability of observing at least one run of length 5 or more when n=100 and p=0.5?. Estimate this from 100,000 simulated experiments. Is this more, less or equally likely than finding runs of length 7 or more when p=0.7"
      ],
      "metadata": {
        "id": "f4GT7L_9b8vd"
      }
    },
    {
      "cell_type": "code",
      "source": [
        "import numpy as np\n",
        "import random\n",
        "\n",
        "def run_simulation(n, k, p, expts):\n",
        "    count = 0\n",
        "    for _ in range(expts):\n",
        "        runs = simulate_runs(n, k, p)\n",
        "        if runs:\n",
        "            count += 1\n",
        "    return count / expts\n",
        "\n",
        "def simulate_runs(n, k, p):\n",
        "    run = 0\n",
        "    runs = []\n",
        "    for i in range(n):\n",
        "        coin = random.random()\n",
        "        if coin <= p:\n",
        "            run += 1\n",
        "        else:\n",
        "            if run >= k:\n",
        "                runs.append(run)\n",
        "            run = 0\n",
        "    if run >= k:\n",
        "        runs.append(run)\n",
        "    return runs\n",
        "\n",
        "n = 100\n",
        "k = 5\n",
        "p = 0.5\n",
        "expts = 100000\n",
        "run_prob = run_simulation(n, k, p, expts)\n",
        "print(\"Probability of at least one run of length 5 or more when n=100 and p=0.5: \", run_prob)\n",
        "\n",
        "k = 7\n",
        "p = 0.7\n",
        "run_prob = run_simulation(n, k, p, expts)\n",
        "print(\"Probability of at least one run of length 7 or more when n=100 and p=0.7: \", run_prob)"
      ],
      "metadata": {
        "colab": {
          "base_uri": "https://localhost:8080/"
        },
        "id": "kOzxv6L9cCWw",
        "outputId": "bf7f0b26-10f6-479f-96fa-5cb01aa7bb65"
      },
      "execution_count": 4,
      "outputs": [
        {
          "output_type": "stream",
          "name": "stdout",
          "text": [
            "Probability of at least one run of length 5 or more when n=100 and p=0.5:  0.81032\n",
            "Probability of at least one run of length 7 or more when n=100 and p=0.7:  0.94964\n"
          ]
        }
      ]
    }
  ]
}