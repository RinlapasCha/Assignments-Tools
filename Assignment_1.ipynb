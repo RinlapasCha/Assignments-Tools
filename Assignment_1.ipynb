{
  "nbformat": 4,
  "nbformat_minor": 0,
  "metadata": {
    "colab": {
      "provenance": [],
      "collapsed_sections": [
        "QRkeGDLkj4wT",
        "IFMfWK72jzIe",
        "86sTRFquuk9b",
        "K4zarrUcvNsC",
        "Ta2pWabZ64-g",
        "A_7Z2MOMG4xK"
      ],
      "include_colab_link": true
    },
    "kernelspec": {
      "name": "python3",
      "display_name": "Python 3"
    },
    "language_info": {
      "name": "python"
    }
  },
  "cells": [
    {
      "cell_type": "markdown",
      "metadata": {
        "id": "view-in-github",
        "colab_type": "text"
      },
      "source": [
        "<a href=\"https://colab.research.google.com/github/RinlapasCha/Assignments-Tools/blob/main/Assignment_1.ipynb\" target=\"_parent\"><img src=\"https://colab.research.google.com/assets/colab-badge.svg\" alt=\"Open In Colab\"/></a>"
      ]
    },
    {
      "cell_type": "markdown",
      "source": [
        "#Data"
      ],
      "metadata": {
        "id": "7nR8CtmyGOhm"
      }
    },
    {
      "cell_type": "code",
      "source": [
        "#pip install -U scikit-learn"
      ],
      "metadata": {
        "id": "KnO2eshJuaVz"
      },
      "execution_count": 281,
      "outputs": []
    },
    {
      "cell_type": "code",
      "source": [
        "import pandas as pd\n",
        "import numpy as np\n",
        "from numpy import mean,std\n",
        "from sklearn.model_selection import train_test_split, RepeatedStratifiedKFold, RepeatedKFold, cross_val_score\n",
        "from sklearn.feature_selection import RFE, SelectKBest, f_regression, mutual_info_classif, f_classif, SelectFromModel, chi2\n",
        "from sklearn.ensemble import RandomForestClassifier, RandomForestRegressor\n",
        "from sklearn.linear_model import LogisticRegression\n",
        "from sklearn.tree import DecisionTreeClassifier, DecisionTreeRegressor\n",
        "from sklearn.neighbors import KNeighborsRegressor\n",
        "from sklearn.pipeline import Pipeline\n",
        "from sklearn.inspection import permutation_importance\n",
        "from matplotlib import pyplot as plt\n",
        "from sklearn.datasets import make_classification\n",
        "from sklearn.metrics import accuracy_score"
      ],
      "metadata": {
        "id": "dPR9uOZlkrzW"
      },
      "execution_count": 282,
      "outputs": []
    },
    {
      "cell_type": "code",
      "source": [
        "COLUMN_NAMES = ['pregnancies', 'glucose', 'blood pressure', 'skin', 'insulin', 'bmi', 'pedigree', 'age', 'diabetic']\n",
        "df = pd.read_csv(\"/content/pima-indians-diabetes.csv\", names = COLUMN_NAMES)"
      ],
      "metadata": {
        "id": "z6nBHztVkOr6"
      },
      "execution_count": 283,
      "outputs": []
    },
    {
      "cell_type": "code",
      "source": [
        "# Remove the class variable from the data set\n",
        "X = df.drop('diabetic', axis=1)\n",
        "y = df['diabetic']\n",
        "\n",
        "# Split the data set into a training set and a test set\n",
        "X_train, X_test, y_train, y_test = train_test_split(X, y, test_size=0.2, random_state=42)"
      ],
      "metadata": {
        "id": "_sPDmFuoU3Bm"
      },
      "execution_count": 284,
      "outputs": []
    },
    {
      "cell_type": "code",
      "source": [
        "# get the dataset\n",
        "def get_dataset():\n",
        "    X = df.drop('diabetic', axis=1)\n",
        "    y = df['diabetic']\n",
        "    return X, y"
      ],
      "metadata": {
        "id": "C4qiPM45wod2"
      },
      "execution_count": 285,
      "outputs": []
    },
    {
      "cell_type": "code",
      "source": [
        "X"
      ],
      "metadata": {
        "colab": {
          "base_uri": "https://localhost:8080/",
          "height": 424
        },
        "id": "9C_SI3ajFwsk",
        "outputId": "02495f1e-13c9-43f7-8e68-f9e0709eeae0"
      },
      "execution_count": 286,
      "outputs": [
        {
          "output_type": "execute_result",
          "data": {
            "text/plain": [
              "     pregnancies  glucose  blood pressure  skin  insulin   bmi  pedigree  age\n",
              "0              6      148              72    35        0  33.6     0.627   50\n",
              "1              1       85              66    29        0  26.6     0.351   31\n",
              "2              8      183              64     0        0  23.3     0.672   32\n",
              "3              1       89              66    23       94  28.1     0.167   21\n",
              "4              0      137              40    35      168  43.1     2.288   33\n",
              "..           ...      ...             ...   ...      ...   ...       ...  ...\n",
              "763           10      101              76    48      180  32.9     0.171   63\n",
              "764            2      122              70    27        0  36.8     0.340   27\n",
              "765            5      121              72    23      112  26.2     0.245   30\n",
              "766            1      126              60     0        0  30.1     0.349   47\n",
              "767            1       93              70    31        0  30.4     0.315   23\n",
              "\n",
              "[768 rows x 8 columns]"
            ],
            "text/html": [
              "\n",
              "  <div id=\"df-f4948fc7-1f90-4508-a134-f24d5be99857\" class=\"colab-df-container\">\n",
              "    <div>\n",
              "<style scoped>\n",
              "    .dataframe tbody tr th:only-of-type {\n",
              "        vertical-align: middle;\n",
              "    }\n",
              "\n",
              "    .dataframe tbody tr th {\n",
              "        vertical-align: top;\n",
              "    }\n",
              "\n",
              "    .dataframe thead th {\n",
              "        text-align: right;\n",
              "    }\n",
              "</style>\n",
              "<table border=\"1\" class=\"dataframe\">\n",
              "  <thead>\n",
              "    <tr style=\"text-align: right;\">\n",
              "      <th></th>\n",
              "      <th>pregnancies</th>\n",
              "      <th>glucose</th>\n",
              "      <th>blood pressure</th>\n",
              "      <th>skin</th>\n",
              "      <th>insulin</th>\n",
              "      <th>bmi</th>\n",
              "      <th>pedigree</th>\n",
              "      <th>age</th>\n",
              "    </tr>\n",
              "  </thead>\n",
              "  <tbody>\n",
              "    <tr>\n",
              "      <th>0</th>\n",
              "      <td>6</td>\n",
              "      <td>148</td>\n",
              "      <td>72</td>\n",
              "      <td>35</td>\n",
              "      <td>0</td>\n",
              "      <td>33.6</td>\n",
              "      <td>0.627</td>\n",
              "      <td>50</td>\n",
              "    </tr>\n",
              "    <tr>\n",
              "      <th>1</th>\n",
              "      <td>1</td>\n",
              "      <td>85</td>\n",
              "      <td>66</td>\n",
              "      <td>29</td>\n",
              "      <td>0</td>\n",
              "      <td>26.6</td>\n",
              "      <td>0.351</td>\n",
              "      <td>31</td>\n",
              "    </tr>\n",
              "    <tr>\n",
              "      <th>2</th>\n",
              "      <td>8</td>\n",
              "      <td>183</td>\n",
              "      <td>64</td>\n",
              "      <td>0</td>\n",
              "      <td>0</td>\n",
              "      <td>23.3</td>\n",
              "      <td>0.672</td>\n",
              "      <td>32</td>\n",
              "    </tr>\n",
              "    <tr>\n",
              "      <th>3</th>\n",
              "      <td>1</td>\n",
              "      <td>89</td>\n",
              "      <td>66</td>\n",
              "      <td>23</td>\n",
              "      <td>94</td>\n",
              "      <td>28.1</td>\n",
              "      <td>0.167</td>\n",
              "      <td>21</td>\n",
              "    </tr>\n",
              "    <tr>\n",
              "      <th>4</th>\n",
              "      <td>0</td>\n",
              "      <td>137</td>\n",
              "      <td>40</td>\n",
              "      <td>35</td>\n",
              "      <td>168</td>\n",
              "      <td>43.1</td>\n",
              "      <td>2.288</td>\n",
              "      <td>33</td>\n",
              "    </tr>\n",
              "    <tr>\n",
              "      <th>...</th>\n",
              "      <td>...</td>\n",
              "      <td>...</td>\n",
              "      <td>...</td>\n",
              "      <td>...</td>\n",
              "      <td>...</td>\n",
              "      <td>...</td>\n",
              "      <td>...</td>\n",
              "      <td>...</td>\n",
              "    </tr>\n",
              "    <tr>\n",
              "      <th>763</th>\n",
              "      <td>10</td>\n",
              "      <td>101</td>\n",
              "      <td>76</td>\n",
              "      <td>48</td>\n",
              "      <td>180</td>\n",
              "      <td>32.9</td>\n",
              "      <td>0.171</td>\n",
              "      <td>63</td>\n",
              "    </tr>\n",
              "    <tr>\n",
              "      <th>764</th>\n",
              "      <td>2</td>\n",
              "      <td>122</td>\n",
              "      <td>70</td>\n",
              "      <td>27</td>\n",
              "      <td>0</td>\n",
              "      <td>36.8</td>\n",
              "      <td>0.340</td>\n",
              "      <td>27</td>\n",
              "    </tr>\n",
              "    <tr>\n",
              "      <th>765</th>\n",
              "      <td>5</td>\n",
              "      <td>121</td>\n",
              "      <td>72</td>\n",
              "      <td>23</td>\n",
              "      <td>112</td>\n",
              "      <td>26.2</td>\n",
              "      <td>0.245</td>\n",
              "      <td>30</td>\n",
              "    </tr>\n",
              "    <tr>\n",
              "      <th>766</th>\n",
              "      <td>1</td>\n",
              "      <td>126</td>\n",
              "      <td>60</td>\n",
              "      <td>0</td>\n",
              "      <td>0</td>\n",
              "      <td>30.1</td>\n",
              "      <td>0.349</td>\n",
              "      <td>47</td>\n",
              "    </tr>\n",
              "    <tr>\n",
              "      <th>767</th>\n",
              "      <td>1</td>\n",
              "      <td>93</td>\n",
              "      <td>70</td>\n",
              "      <td>31</td>\n",
              "      <td>0</td>\n",
              "      <td>30.4</td>\n",
              "      <td>0.315</td>\n",
              "      <td>23</td>\n",
              "    </tr>\n",
              "  </tbody>\n",
              "</table>\n",
              "<p>768 rows × 8 columns</p>\n",
              "</div>\n",
              "    <div class=\"colab-df-buttons\">\n",
              "\n",
              "  <div class=\"colab-df-container\">\n",
              "    <button class=\"colab-df-convert\" onclick=\"convertToInteractive('df-f4948fc7-1f90-4508-a134-f24d5be99857')\"\n",
              "            title=\"Convert this dataframe to an interactive table.\"\n",
              "            style=\"display:none;\">\n",
              "\n",
              "  <svg xmlns=\"http://www.w3.org/2000/svg\" height=\"24px\" viewBox=\"0 -960 960 960\">\n",
              "    <path d=\"M120-120v-720h720v720H120Zm60-500h600v-160H180v160Zm220 220h160v-160H400v160Zm0 220h160v-160H400v160ZM180-400h160v-160H180v160Zm440 0h160v-160H620v160ZM180-180h160v-160H180v160Zm440 0h160v-160H620v160Z\"/>\n",
              "  </svg>\n",
              "    </button>\n",
              "\n",
              "  <style>\n",
              "    .colab-df-container {\n",
              "      display:flex;\n",
              "      gap: 12px;\n",
              "    }\n",
              "\n",
              "    .colab-df-convert {\n",
              "      background-color: #E8F0FE;\n",
              "      border: none;\n",
              "      border-radius: 50%;\n",
              "      cursor: pointer;\n",
              "      display: none;\n",
              "      fill: #1967D2;\n",
              "      height: 32px;\n",
              "      padding: 0 0 0 0;\n",
              "      width: 32px;\n",
              "    }\n",
              "\n",
              "    .colab-df-convert:hover {\n",
              "      background-color: #E2EBFA;\n",
              "      box-shadow: 0px 1px 2px rgba(60, 64, 67, 0.3), 0px 1px 3px 1px rgba(60, 64, 67, 0.15);\n",
              "      fill: #174EA6;\n",
              "    }\n",
              "\n",
              "    .colab-df-buttons div {\n",
              "      margin-bottom: 4px;\n",
              "    }\n",
              "\n",
              "    [theme=dark] .colab-df-convert {\n",
              "      background-color: #3B4455;\n",
              "      fill: #D2E3FC;\n",
              "    }\n",
              "\n",
              "    [theme=dark] .colab-df-convert:hover {\n",
              "      background-color: #434B5C;\n",
              "      box-shadow: 0px 1px 3px 1px rgba(0, 0, 0, 0.15);\n",
              "      filter: drop-shadow(0px 1px 2px rgba(0, 0, 0, 0.3));\n",
              "      fill: #FFFFFF;\n",
              "    }\n",
              "  </style>\n",
              "\n",
              "    <script>\n",
              "      const buttonEl =\n",
              "        document.querySelector('#df-f4948fc7-1f90-4508-a134-f24d5be99857 button.colab-df-convert');\n",
              "      buttonEl.style.display =\n",
              "        google.colab.kernel.accessAllowed ? 'block' : 'none';\n",
              "\n",
              "      async function convertToInteractive(key) {\n",
              "        const element = document.querySelector('#df-f4948fc7-1f90-4508-a134-f24d5be99857');\n",
              "        const dataTable =\n",
              "          await google.colab.kernel.invokeFunction('convertToInteractive',\n",
              "                                                    [key], {});\n",
              "        if (!dataTable) return;\n",
              "\n",
              "        const docLinkHtml = 'Like what you see? Visit the ' +\n",
              "          '<a target=\"_blank\" href=https://colab.research.google.com/notebooks/data_table.ipynb>data table notebook</a>'\n",
              "          + ' to learn more about interactive tables.';\n",
              "        element.innerHTML = '';\n",
              "        dataTable['output_type'] = 'display_data';\n",
              "        await google.colab.output.renderOutput(dataTable, element);\n",
              "        const docLink = document.createElement('div');\n",
              "        docLink.innerHTML = docLinkHtml;\n",
              "        element.appendChild(docLink);\n",
              "      }\n",
              "    </script>\n",
              "  </div>\n",
              "\n",
              "\n",
              "<div id=\"df-745e0924-a4e6-4ed7-bcad-1d0a1aca8e58\">\n",
              "  <button class=\"colab-df-quickchart\" onclick=\"quickchart('df-745e0924-a4e6-4ed7-bcad-1d0a1aca8e58')\"\n",
              "            title=\"Suggest charts\"\n",
              "            style=\"display:none;\">\n",
              "\n",
              "<svg xmlns=\"http://www.w3.org/2000/svg\" height=\"24px\"viewBox=\"0 0 24 24\"\n",
              "     width=\"24px\">\n",
              "    <g>\n",
              "        <path d=\"M19 3H5c-1.1 0-2 .9-2 2v14c0 1.1.9 2 2 2h14c1.1 0 2-.9 2-2V5c0-1.1-.9-2-2-2zM9 17H7v-7h2v7zm4 0h-2V7h2v10zm4 0h-2v-4h2v4z\"/>\n",
              "    </g>\n",
              "</svg>\n",
              "  </button>\n",
              "\n",
              "<style>\n",
              "  .colab-df-quickchart {\n",
              "      --bg-color: #E8F0FE;\n",
              "      --fill-color: #1967D2;\n",
              "      --hover-bg-color: #E2EBFA;\n",
              "      --hover-fill-color: #174EA6;\n",
              "      --disabled-fill-color: #AAA;\n",
              "      --disabled-bg-color: #DDD;\n",
              "  }\n",
              "\n",
              "  [theme=dark] .colab-df-quickchart {\n",
              "      --bg-color: #3B4455;\n",
              "      --fill-color: #D2E3FC;\n",
              "      --hover-bg-color: #434B5C;\n",
              "      --hover-fill-color: #FFFFFF;\n",
              "      --disabled-bg-color: #3B4455;\n",
              "      --disabled-fill-color: #666;\n",
              "  }\n",
              "\n",
              "  .colab-df-quickchart {\n",
              "    background-color: var(--bg-color);\n",
              "    border: none;\n",
              "    border-radius: 50%;\n",
              "    cursor: pointer;\n",
              "    display: none;\n",
              "    fill: var(--fill-color);\n",
              "    height: 32px;\n",
              "    padding: 0;\n",
              "    width: 32px;\n",
              "  }\n",
              "\n",
              "  .colab-df-quickchart:hover {\n",
              "    background-color: var(--hover-bg-color);\n",
              "    box-shadow: 0 1px 2px rgba(60, 64, 67, 0.3), 0 1px 3px 1px rgba(60, 64, 67, 0.15);\n",
              "    fill: var(--button-hover-fill-color);\n",
              "  }\n",
              "\n",
              "  .colab-df-quickchart-complete:disabled,\n",
              "  .colab-df-quickchart-complete:disabled:hover {\n",
              "    background-color: var(--disabled-bg-color);\n",
              "    fill: var(--disabled-fill-color);\n",
              "    box-shadow: none;\n",
              "  }\n",
              "\n",
              "  .colab-df-spinner {\n",
              "    border: 2px solid var(--fill-color);\n",
              "    border-color: transparent;\n",
              "    border-bottom-color: var(--fill-color);\n",
              "    animation:\n",
              "      spin 1s steps(1) infinite;\n",
              "  }\n",
              "\n",
              "  @keyframes spin {\n",
              "    0% {\n",
              "      border-color: transparent;\n",
              "      border-bottom-color: var(--fill-color);\n",
              "      border-left-color: var(--fill-color);\n",
              "    }\n",
              "    20% {\n",
              "      border-color: transparent;\n",
              "      border-left-color: var(--fill-color);\n",
              "      border-top-color: var(--fill-color);\n",
              "    }\n",
              "    30% {\n",
              "      border-color: transparent;\n",
              "      border-left-color: var(--fill-color);\n",
              "      border-top-color: var(--fill-color);\n",
              "      border-right-color: var(--fill-color);\n",
              "    }\n",
              "    40% {\n",
              "      border-color: transparent;\n",
              "      border-right-color: var(--fill-color);\n",
              "      border-top-color: var(--fill-color);\n",
              "    }\n",
              "    60% {\n",
              "      border-color: transparent;\n",
              "      border-right-color: var(--fill-color);\n",
              "    }\n",
              "    80% {\n",
              "      border-color: transparent;\n",
              "      border-right-color: var(--fill-color);\n",
              "      border-bottom-color: var(--fill-color);\n",
              "    }\n",
              "    90% {\n",
              "      border-color: transparent;\n",
              "      border-bottom-color: var(--fill-color);\n",
              "    }\n",
              "  }\n",
              "</style>\n",
              "\n",
              "  <script>\n",
              "    async function quickchart(key) {\n",
              "      const quickchartButtonEl =\n",
              "        document.querySelector('#' + key + ' button');\n",
              "      quickchartButtonEl.disabled = true;  // To prevent multiple clicks.\n",
              "      quickchartButtonEl.classList.add('colab-df-spinner');\n",
              "      try {\n",
              "        const charts = await google.colab.kernel.invokeFunction(\n",
              "            'suggestCharts', [key], {});\n",
              "      } catch (error) {\n",
              "        console.error('Error during call to suggestCharts:', error);\n",
              "      }\n",
              "      quickchartButtonEl.classList.remove('colab-df-spinner');\n",
              "      quickchartButtonEl.classList.add('colab-df-quickchart-complete');\n",
              "    }\n",
              "    (() => {\n",
              "      let quickchartButtonEl =\n",
              "        document.querySelector('#df-745e0924-a4e6-4ed7-bcad-1d0a1aca8e58 button');\n",
              "      quickchartButtonEl.style.display =\n",
              "        google.colab.kernel.accessAllowed ? 'block' : 'none';\n",
              "    })();\n",
              "  </script>\n",
              "</div>\n",
              "    </div>\n",
              "  </div>\n"
            ]
          },
          "metadata": {},
          "execution_count": 286
        }
      ]
    },
    {
      "cell_type": "code",
      "source": [
        "y"
      ],
      "metadata": {
        "colab": {
          "base_uri": "https://localhost:8080/"
        },
        "id": "_jUBPuJQxdfm",
        "outputId": "98616b9e-148f-49eb-fd63-581a2a5ee147"
      },
      "execution_count": 287,
      "outputs": [
        {
          "output_type": "execute_result",
          "data": {
            "text/plain": [
              "0      1\n",
              "1      0\n",
              "2      1\n",
              "3      0\n",
              "4      1\n",
              "      ..\n",
              "763    0\n",
              "764    0\n",
              "765    0\n",
              "766    1\n",
              "767    0\n",
              "Name: diabetic, Length: 768, dtype: int64"
            ]
          },
          "metadata": {},
          "execution_count": 287
        }
      ]
    },
    {
      "cell_type": "markdown",
      "source": [
        "# **1. Stat feature selection**"
      ],
      "metadata": {
        "id": "86sTRFquuk9b"
      }
    },
    {
      "cell_type": "markdown",
      "source": [
        "Classification Feature Selection"
      ],
      "metadata": {
        "id": "JGpFSnk-uxGh"
      }
    },
    {
      "cell_type": "code",
      "source": [
        "# ANOVA feature selection for numeric input and categorical output\n",
        "X,y=  get_dataset()\n",
        "# define feature selection\n",
        "fs = SelectKBest(score_func=f_classif, k=8)\n",
        "# apply feature selection\n",
        "X_selected = fs.fit_transform(X, y)\n",
        "print(X_selected.shape)"
      ],
      "metadata": {
        "colab": {
          "base_uri": "https://localhost:8080/"
        },
        "id": "8pvwXikava1V",
        "outputId": "d16cc402-56f5-40ab-a764-fc068a11d218"
      },
      "execution_count": 288,
      "outputs": [
        {
          "output_type": "stream",
          "name": "stdout",
          "text": [
            "(768, 8)\n"
          ]
        }
      ]
    },
    {
      "cell_type": "code",
      "source": [
        "X_selected"
      ],
      "metadata": {
        "colab": {
          "base_uri": "https://localhost:8080/"
        },
        "id": "45K6ke7YHhER",
        "outputId": "392fe300-cb0c-4e05-c255-637174b5eed0"
      },
      "execution_count": 289,
      "outputs": [
        {
          "output_type": "execute_result",
          "data": {
            "text/plain": [
              "array([[  6.   , 148.   ,  72.   , ...,  33.6  ,   0.627,  50.   ],\n",
              "       [  1.   ,  85.   ,  66.   , ...,  26.6  ,   0.351,  31.   ],\n",
              "       [  8.   , 183.   ,  64.   , ...,  23.3  ,   0.672,  32.   ],\n",
              "       ...,\n",
              "       [  5.   , 121.   ,  72.   , ...,  26.2  ,   0.245,  30.   ],\n",
              "       [  1.   , 126.   ,  60.   , ...,  30.1  ,   0.349,  47.   ],\n",
              "       [  1.   ,  93.   ,  70.   , ...,  30.4  ,   0.315,  23.   ]])"
            ]
          },
          "metadata": {},
          "execution_count": 289
        }
      ]
    },
    {
      "cell_type": "markdown",
      "source": [
        "# **2.Recursive Feature Elimination (RFE)**"
      ],
      "metadata": {
        "id": "IFMfWK72jzIe"
      }
    },
    {
      "cell_type": "markdown",
      "source": [
        "RFE for Classification"
      ],
      "metadata": {
        "id": "Uh5-B9MXsAc7"
      }
    },
    {
      "cell_type": "code",
      "execution_count": 290,
      "metadata": {
        "id": "K3pCb3JcfAqz",
        "colab": {
          "base_uri": "https://localhost:8080/"
        },
        "outputId": "6e91d5ee-6d93-4c25-b32a-8ba00e034881"
      },
      "outputs": [
        {
          "output_type": "stream",
          "name": "stdout",
          "text": [
            "Accuracy: 0.698 (0.054)\n"
          ]
        }
      ],
      "source": [
        "# create pipeline\n",
        "rfe = RFE(estimator=DecisionTreeClassifier(), n_features_to_select=5)\n",
        "model = DecisionTreeClassifier()\n",
        "pipeline = Pipeline(steps=[('s',rfe),('m',model)])\n",
        "# evaluate model\n",
        "cv = RepeatedStratifiedKFold(n_splits=10, n_repeats=3, random_state=42)\n",
        "n_scores = cross_val_score(pipeline, X , y , scoring='accuracy', cv=cv, n_jobs=-1, error_score='raise')\n",
        "# report performance\n",
        "print('Accuracy: %.3f (%.3f)' % (mean(n_scores), std(n_scores)))"
      ]
    },
    {
      "cell_type": "code",
      "source": [
        "print(n_scores)"
      ],
      "metadata": {
        "colab": {
          "base_uri": "https://localhost:8080/"
        },
        "id": "8Lo-RjYlvo0p",
        "outputId": "e70a9894-b2f7-4ebe-a861-743b29d72315"
      },
      "execution_count": 291,
      "outputs": [
        {
          "output_type": "stream",
          "name": "stdout",
          "text": [
            "[0.68831169 0.75324675 0.72727273 0.80519481 0.72727273 0.71428571\n",
            " 0.71428571 0.72727273 0.61842105 0.59210526 0.61038961 0.58441558\n",
            " 0.72727273 0.67532468 0.79220779 0.72727273 0.74025974 0.67532468\n",
            " 0.73684211 0.67105263 0.71428571 0.72727273 0.75324675 0.7012987\n",
            " 0.67532468 0.63636364 0.7012987  0.72727273 0.64473684 0.64473684]\n"
          ]
        }
      ]
    },
    {
      "cell_type": "markdown",
      "source": [
        "# **3.Permutation Feature Importance**\n",
        "\n"
      ],
      "metadata": {
        "id": "K4zarrUcvNsC"
      }
    },
    {
      "cell_type": "markdown",
      "source": [
        "permutation feature importance with knn for classification"
      ],
      "metadata": {
        "id": "y7dVBZSo2A-f"
      }
    },
    {
      "cell_type": "code",
      "source": [
        "model = KNeighborsClassifier()\n",
        "# fit the model\n",
        "model.fit(X, y)\n",
        "# perform permutation importance\n",
        "results = permutation_importance(model, X, y, scoring='accuracy')\n",
        "# get importance\n",
        "importance = results.importances_mean\n",
        "# summarize feature importance\n",
        "for i,v in enumerate(importance):\n",
        "\tprint('Feature: %0d, Score: %.5f' % (i,v))\n",
        "# plot feature importance\n",
        "plt.bar([x for x in range(len(importance))], importance)\n",
        "plt.show()"
      ],
      "metadata": {
        "id": "dFYwUS8iaV6C",
        "colab": {
          "base_uri": "https://localhost:8080/",
          "height": 569
        },
        "outputId": "519518e8-800d-4f03-f830-90ce5eed40f0"
      },
      "execution_count": 292,
      "outputs": [
        {
          "output_type": "stream",
          "name": "stdout",
          "text": [
            "Feature: 0, Score: -0.00234\n",
            "Feature: 1, Score: 0.15130\n",
            "Feature: 2, Score: 0.01536\n",
            "Feature: 3, Score: 0.01641\n",
            "Feature: 4, Score: 0.06536\n",
            "Feature: 5, Score: 0.00547\n",
            "Feature: 6, Score: 0.00000\n",
            "Feature: 7, Score: 0.03255\n"
          ]
        },
        {
          "output_type": "display_data",
          "data": {
            "text/plain": [
              "<Figure size 640x480 with 1 Axes>"
            ],
            "image/png": "[encoded data removed]"
          },
          "metadata": {}
        }
      ]
    },
    {
      "cell_type": "markdown",
      "source": [
        "# **4.Comparison in model development**"
      ],
      "metadata": {
        "id": "NPYMyCCN6L89"
      }
    },
    {
      "cell_type": "markdown",
      "source": [
        "Number of features"
      ],
      "metadata": {
        "id": "NKOJenStyDmd"
      }
    },
    {
      "cell_type": "code",
      "source": [
        "##Stat feature (Classication)\n",
        "model_rf = RandomForestClassifier()\n",
        "\n",
        "# Use RFE with RandomForestClassifier in the pipeline\n",
        "rfe_rf = RFE(estimator=model_rf, n_features_to_select=5)\n",
        "pipeline_rf = Pipeline(steps=[('s', rfe_rf), ('m', model_rf)])\n",
        "scores_rf = cross_val_score(pipeline_rf, X_train, y_train, cv=5, scoring='accuracy')\n",
        "\n",
        "print(f'Number of features selected by RFE with RandomForest: {rfe_rf.n_features_to_select}')\n",
        "print(f'Mean Accuracy with RFE and RandomForest: {scores_rf.mean()}')"
      ],
      "metadata": {
        "colab": {
          "base_uri": "https://localhost:8080/"
        },
        "id": "lCvr_7lAhYRY",
        "outputId": "eb95aa32-7688-4117-8beb-9e0c6b5658e4"
      },
      "execution_count": 293,
      "outputs": [
        {
          "output_type": "stream",
          "name": "stdout",
          "text": [
            "Number of features selected by RFE with RandomForest: 5\n",
            "Mean Accuracy with RFE and RandomForest: 0.7557510329201652\n"
          ]
        }
      ]
    },
    {
      "cell_type": "code",
      "source": [
        "##RFE\n",
        "\n",
        "model_ = DecisionTreeClassifier()\n",
        "rfe = RFE(estimator=model_, n_features_to_select=5)\n",
        "pipeline_rfe = Pipeline(steps=[('s', rfe), ('m', model_)])\n",
        "scores_rfe = cross_val_score(pipeline_rfe, X_train, y_train, cv=5, scoring='accuracy')\n",
        "\n",
        "print(f'Number of features selected by RFE: {rfe.n_features_to_select}')\n",
        "print(f'Mean Accuracy with RFE: {scores_rfe.mean()}')"
      ],
      "metadata": {
        "colab": {
          "base_uri": "https://localhost:8080/"
        },
        "id": "ENUV6CPDFAje",
        "outputId": "fe1ea1dc-3798-4e25-e374-e048fe9d90df"
      },
      "execution_count": 294,
      "outputs": [
        {
          "output_type": "stream",
          "name": "stdout",
          "text": [
            "Number of features selected by RFE: 5\n",
            "Mean Accuracy with RFE: 0.7133546581367453\n"
          ]
        }
      ]
    },
    {
      "cell_type": "code",
      "source": [
        "##Permutation Feature\n",
        "# Assume X_train, y_train are your training data\n",
        "model_permutation = RandomForestClassifier(n_estimators=1000)\n",
        "model_permutation.fit(X_train, y_train)\n",
        "\n",
        "result_permutation = permutation_importance(model_permutation, X_train, y_train, n_repeats=10, random_state=42)\n",
        "\n",
        "perm_importance = result_permutation.importances_mean\n",
        "selected_features_permutation = [index for index, importance in enumerate(perm_importance) if importance > 0]\n",
        "score_permu = cross_val_score(model_permutation,X_train, y_train, cv=5, scoring='accuracy')\n",
        "print(f'Number of features selected by Permutation Feature Importance: {len(selected_features_permutation)}')\n",
        "print(f'Mean Accuracy with Selected by Permutation Feature Importance: {score_permu.mean()}')\n"
      ],
      "metadata": {
        "colab": {
          "base_uri": "https://localhost:8080/"
        },
        "id": "qCVEl-GEFQUt",
        "outputId": "69a85ffc-859e-4600-b4d2-1c0345714b99"
      },
      "execution_count": 295,
      "outputs": [
        {
          "output_type": "stream",
          "name": "stdout",
          "text": [
            "Number of features selected by Permutation Feature Importance: 8\n",
            "Mean Accuracy with Selected by Permutation Feature Importance: 0.7752765560442489\n"
          ]
        }
      ]
    },
    {
      "cell_type": "markdown",
      "source": [
        "-----\n",
        "//The cross-validated score\n",
        "คือการวัดว่าแบบจำลองทำงานได้ดีเพียงใดกับข้อมูล\n",
        "\n",
        "\n",
        "จากข้อมูลพบว่า พบว่า Permutation Feature Importance เป็นวิธีดีที่สุดในบรรดาสามวิธีเมื่อเปรียบเทียบ โดยใช้ Number of features\n",
        "\n",
        "----\n"
      ],
      "metadata": {
        "id": "KHgr39v8Fg5z"
      }
    },
    {
      "cell_type": "markdown",
      "source": [
        "Selected features"
      ],
      "metadata": {
        "id": "5Xh0_EwOyH-O"
      }
    },
    {
      "cell_type": "code",
      "source": [
        "# evaluation of a model using all features\n",
        "\n",
        "X, y = get_dataset()\n",
        "# fit the model\n",
        "model = LogisticRegression(solver='liblinear')\n",
        "model.fit(X_train, y_train)\n",
        "# evaluate the model\n",
        "yhat = model.predict(X_test)\n",
        "# evaluate predictions\n",
        "accuracy = accuracy_score(y_test, yhat)\n",
        "print('Accuracy: %.2f' % (accuracy*100))"
      ],
      "metadata": {
        "colab": {
          "base_uri": "https://localhost:8080/"
        },
        "id": "B10cxdr3yGku",
        "outputId": "94733929-47e2-4df9-cdbe-f561ade7f839"
      },
      "execution_count": 183,
      "outputs": [
        {
          "output_type": "stream",
          "name": "stdout",
          "text": [
            "Accuracy: 75.97\n"
          ]
        }
      ]
    },
    {
      "cell_type": "code",
      "source": [
        "# evaluation of a model using 5 features chosen with Stat feature selection\n",
        "\n",
        "X, y = get_dataset()\n",
        "X_train, X_test, y_train, y_test = train_test_split(X, y, test_size=0.2, random_state=42)\n",
        "\n",
        "# Feature selection using SelectKBest with chi-squared test\n",
        "k_best = SelectKBest(score_func=chi2, k=5)\n",
        "X_train_fs = k_best.fit_transform(X_train, y_train)\n",
        "X_test_fs = k_best.transform(X_test)\n",
        "\n",
        "# Fit the Logistic Regression model\n",
        "model = LogisticRegression(solver='liblinear')\n",
        "model.fit(X_train_fs, y_train)\n",
        "\n",
        "# Evaluate the model\n",
        "yhat = model.predict(X_test_fs)\n",
        "\n",
        "# Evaluate predictions\n",
        "accuracy = accuracy_score(y_test, yhat)\n",
        "print('Accuracy: %.2f%%' % (accuracy * 100))"
      ],
      "metadata": {
        "colab": {
          "base_uri": "https://localhost:8080/"
        },
        "id": "0KApm8LlzI97",
        "outputId": "b59a1b70-b662-456d-b881-03c87d15f957"
      },
      "execution_count": 208,
      "outputs": [
        {
          "output_type": "stream",
          "name": "stdout",
          "text": [
            "Accuracy: 75.97%\n"
          ]
        }
      ]
    },
    {
      "cell_type": "code",
      "source": [
        "#evaluation of a model using 5 features chosen with REF\n",
        "\n",
        "X, y = get_dataset()\n",
        "X_train, X_test, y_train, y_test = train_test_split(X, y, test_size=0.33, random_state=1)\n",
        "\n",
        "# Feature selection using RFE\n",
        "fs = RFE(estimator=RandomForestClassifier(n_estimators=1000), n_features_to_select=5)\n",
        "X_train_fs = fs.fit_transform(X_train, y_train)\n",
        "X_test_fs = fs.transform(X_test)\n",
        "\n",
        "# Fit the Logistic Regression model\n",
        "model = LogisticRegression(solver='liblinear')\n",
        "model.fit(X_train_fs, y_train)\n",
        "\n",
        "# Evaluate the model\n",
        "yhat = model.predict(X_test_fs)\n",
        "\n",
        "# Evaluate predictions\n",
        "accuracy = accuracy_score(y_test, yhat)\n",
        "print('Accuracy: %.2f%%' % (accuracy * 100))"
      ],
      "metadata": {
        "colab": {
          "base_uri": "https://localhost:8080/"
        },
        "id": "oP1T5hlEzI33",
        "outputId": "fe53c176-53a4-4b10-affa-32175804f69c"
      },
      "execution_count": 206,
      "outputs": [
        {
          "output_type": "stream",
          "name": "stdout",
          "text": [
            "Accuracy: 77.56%\n"
          ]
        }
      ]
    },
    {
      "cell_type": "code",
      "source": [
        "#evaluation of a model using 8 features chosen with Permutation Feature Importance\n",
        "\n",
        "X, y = get_dataset()\n",
        "X_train, X_test, y_train, y_test = train_test_split(X, y, test_size=0.2, random_state=42)\n",
        "\n",
        "# Train a RandomForestClassifier to get initial feature importance\n",
        "rf_model = RandomForestClassifier(n_estimators=1000, random_state=42)\n",
        "rf_model.fit(X_train, y_train)\n",
        "\n",
        "# Calculate permutation feature importance\n",
        "perm_importance = permutation_importance(rf_model, X_train, y_train, n_repeats=10, random_state=42)\n",
        "\n",
        "# Get indices of top 8 features based on permutation importance\n",
        "top_features_indices = (-perm_importance.importances_mean).argsort()[:8]\n",
        "\n",
        "# Select the top 8 features\n",
        "X_train_perm_importance = X_train.iloc[:, top_features_indices]\n",
        "X_test_perm_importance = X_test.iloc[:, top_features_indices]\n",
        "\n",
        "# Fit the Logistic Regression model on selected features\n",
        "lr_model = LogisticRegression(solver='liblinear')\n",
        "lr_model.fit(X_train_perm_importance, y_train)\n",
        "\n",
        "# Evaluate the model\n",
        "yhat = lr_model.predict(X_test_perm_importance)\n",
        "\n",
        "# Evaluate predictions\n",
        "accuracy = accuracy_score(y_test, yhat)\n",
        "print('Accuracy: %.2f%%' % (accuracy * 100))"
      ],
      "metadata": {
        "colab": {
          "base_uri": "https://localhost:8080/"
        },
        "id": "KXdesRJXzJAd",
        "outputId": "a2e5e24c-d40d-4d57-eda6-2b8129a94198"
      },
      "execution_count": 207,
      "outputs": [
        {
          "output_type": "stream",
          "name": "stdout",
          "text": [
            "Accuracy: 75.97%\n"
          ]
        }
      ]
    },
    {
      "cell_type": "markdown",
      "source": [
        "จากการ Result พบว่า model using 5 features chosen with REF ให้ประสิทธิภาพอยู่ที่ Accuracy: 77.27% ซึ่งสูงที่สุดจากท้ั้งหมด 3 วิธี"
      ],
      "metadata": {
        "id": "N1wdfZCk6WCh"
      }
    },
    {
      "cell_type": "markdown",
      "source": [
        "Feature Ranking"
      ],
      "metadata": {
        "id": "C3tDL2hTU7zE"
      }
    },
    {
      "cell_type": "code",
      "source": [
        "# Define a random forest classifier\n",
        "clf = RandomForestClassifier(n_estimators=100, random_state=42)\n",
        "clf.fit(X, y)\n",
        "\n",
        "# Function to get feature rankings from RFE\n",
        "def get_rfe_feature_rankings(X, y, clf):\n",
        "    rfe = RFE(clf, n_features_to_select=1)\n",
        "    rfe.fit(X, y)\n",
        "    rankings = rfe.ranking_\n",
        "    return rankings\n",
        "\n",
        "# Function to get feature rankings from Statistical feature selection\n",
        "def get_stat_feature_rankings(X, y):\n",
        "    skb = SelectKBest(f_classif, k='all')\n",
        "    skb.fit(X, y)\n",
        "    rankings = -np.log10(skb.pvalues_)\n",
        "    return rankings\n",
        "\n",
        "# Function to get feature rankings from Permutation Feature Importance\n",
        "def get_permutation_feature_rankings(X, y, clf):\n",
        "    result = permutation_importance(clf, X, y, n_repeats=5, random_state=42)\n",
        "    rankings = result.importances_mean\n",
        "    return rankings\n",
        "\n",
        "# Get feature rankings for each method\n",
        "rfe_rankings = get_rfe_feature_rankings(X_train, y_train, clf)\n",
        "stat_rankings = get_stat_feature_rankings(X_train, y_train)\n",
        "perm_rankings = get_permutation_feature_rankings(X_train, y_train, clf)\n",
        "\n",
        "# Plot feature rankings\n",
        "plt.figure(figsize=(15, 5))\n",
        "\n",
        "plt.subplot(1, 3, 1)\n",
        "plt.bar(range(1, len(rfe_rankings) + 1), rfe_rankings)\n",
        "plt.title('RFE Feature Rankings')\n",
        "plt.xlabel('Feature Index')\n",
        "plt.ylabel('Ranking')\n",
        "\n",
        "plt.subplot(1, 3, 2)\n",
        "plt.bar(range(1, len(stat_rankings) + 1), stat_rankings)\n",
        "plt.title('Statistical Feature Rankings')\n",
        "plt.xlabel('Feature Index')\n",
        "plt.ylabel('-log(p-value)')\n",
        "\n",
        "plt.subplot(1, 3, 3)\n",
        "plt.bar(range(1, len(perm_rankings) + 1), perm_rankings)\n",
        "plt.title('Permutation Feature Importance Rankings')\n",
        "plt.xlabel('Feature Index')\n",
        "plt.ylabel('Importance')\n",
        "\n",
        "plt.tight_layout()\n",
        "plt.show()"
      ],
      "metadata": {
        "colab": {
          "base_uri": "https://localhost:8080/",
          "height": 507
        },
        "id": "fP9csLfRT7o_",
        "outputId": "9f788b74-24c6-4630-ad9a-52e508613ef8"
      },
      "execution_count": 204,
      "outputs": [
        {
          "output_type": "display_data",
          "data": {
            "text/plain": [
              "<Figure size 1500x500 with 3 Axes>"
            ],
            "image/png": "[encoded data removed]"
          },
          "metadata": {}
        }
      ]
    },
    {
      "cell_type": "markdown",
      "source": [
        "\n",
        "\n",
        "1.   Feature Index: This column shows the index of the features used in the model. The index ranges from 0 to 40.\n",
        "2.   RFE Feature Rankings: This column shows the ranking of the features based on the Recursive Feature Elimination (RFE) method. The ranking ranges from 0 to 20.0, with lower values indicating more important features.\n",
        "3.  Statistical Feature Rankings: This column shows the ranking of the features based on statistical measures. The ranking ranges from 0.0 to 20.0, with lower values indicating more important features.\n",
        "4. Permutation Feature Importance Rankings: This column shows the ranking of the features based on permutation feature importance. The ranking ranges from 0.0 to 20.0, with lower values indicating more important features.\n",
        "\n",
        "\n",
        "\n",
        "---\n",
        "โดยรวมแล้ว feature index 2,3,6,7 และ 8 ของวิธี REF เหมาะสม\n",
        "\n",
        "โดยรวมแล้ว feature index 1,3,4,5 และ 7 ของวิธี Stat feature selection เหมาะสม\n",
        "\n",
        "โดยรวมแล้ว feature index 2 เพียงอันเดียวที่ไม่เหมาะส\n",
        "\n",
        "\n",
        "\n"
      ],
      "metadata": {
        "id": "9B0W5azM8xxB"
      }
    }
  ]
}